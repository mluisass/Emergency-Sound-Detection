{
 "cells": [
  {
   "cell_type": "markdown",
   "metadata": {},
   "source": [
    "1. Tratamento dos dados\n",
    "   - Balancear os dados de cada classe (criar dados de traffic)\n",
    "2. Modelos\n",
    "   - Ver outros classificadores que podem ser usados e testar\n",
    "   - Usar usar optuna pra encontrar os melhores parâmetros para cada modelo\n",
    "   - Validação cruzada e 30 iterações para ver média e mediana de cada métrica\n",
    "3. **Atributos**\n",
    "   - **Pesquisar mais atributos e justificar o uso de cada**\n",
    "   - MFCCS e Zero crossing rate (ZCR)\n",
    "4. Métricas\n",
    "   - Pesquisar novas métricas: sensibilidade, especificidade, indice kappa, área sob ROC"
   ]
  },
  {
   "cell_type": "code",
   "execution_count": 55,
   "metadata": {},
   "outputs": [],
   "source": [
    "import os\n",
    "import numpy as np\n",
    "from scipy.io import wavfile\n",
    "from scipy.signal import spectrogram\n",
    "from sklearn.ensemble import RandomForestClassifier\n",
    "from sklearn.model_selection import train_test_split\n",
    "from sklearn.metrics import accuracy_score\n",
    "import librosa\n",
    "\n",
    "# Pasta contendo os arquivos de áudio\n",
    "audio_folder = \"sounds\"\n",
    "\n",
    "# Listas para armazenar as características e os rótulos\n",
    "\n",
    "\n",
    "audios = []\n",
    "\n",
    "# Loop sobre as subpastas (traffic, ambulance, firetruck)\n",
    "for label in [\"traffic\", \"ambulance\", \"firetruck\"]:\n",
    "    label_folder = os.path.join(audio_folder, label)\n",
    "    for file_name in os.listdir(label_folder):\n",
    "        file_path = os.path.join(label_folder, file_name)\n",
    "        if file_path.endswith(\".wav\"):\n",
    "            # Carrega o arquivo de áudio\n",
    "            audio_data, sample_rate = librosa.load(file_path, sr=None)\n",
    "            audios.append([audio_data, sample_rate, label])\n"
   ]
  },
  {
   "cell_type": "code",
   "execution_count": 65,
   "metadata": {},
   "outputs": [],
   "source": [
    "features = []       \n",
    "labels = []\n",
    "folder_label = {\"traffic\": \"traffic\", \"ambulance\": \"emergency\", \"firetruck\": \"emergency\"}\n",
    "\n",
    "for [audio_data, sample_rate, label] in audios:\n",
    "    energy_mean = np.mean(audio_data**2)\n",
    "    # mfccs = librosa.feature.mfcc(y=audio_data, sr=sample_rate, n_mfcc=13)\n",
    "\n",
    "    zero_crossings = librosa.zero_crossings(audio_data, pad=False)\n",
    "    zero_crossing_rate = np.mean(zero_crossings) \n",
    "    \n",
    "    _, _, spec = spectrogram(audio_data, fs=sample_rate)\n",
    "    spec_mean = np.mean(spec)\n",
    "    \n",
    "    features.append([energy_mean, spec_mean, zero_crossing_rate])\n",
    "    labels.append(folder_label[label])"
   ]
  },
  {
   "cell_type": "code",
   "execution_count": 66,
   "metadata": {},
   "outputs": [
    {
     "name": "stdout",
     "output_type": "stream",
     "text": [
      "Ocorrências de 'emergency': 289\n",
      "Ocorrências de 'traffic': 289\n",
      "Acurácia: 0.9888888888888889\n"
     ]
    }
   ],
   "source": [
    "from imblearn.over_sampling import SMOTE\n",
    "\n",
    "# Converte as listas para arrays numpy\n",
    "features = np.array(features)\n",
    "labels = np.array(labels)\n",
    "\n",
    "# Divide os dados em conjuntos de treinamento e teste\n",
    "X_train, X_test, y_train, y_test = train_test_split(features, labels, train_size=0.7, random_state=42)\n",
    "\n",
    "smote = SMOTE(random_state=42)\n",
    "X_train_smote, y_train_smote = smote.fit_resample(X_train, y_train)\n",
    "\n",
    "# Cria e treina o classificador Random Forest\n",
    "clf = RandomForestClassifier(n_estimators=100, random_state=42)\n",
    "\n",
    "count_emergency = np.count_nonzero( y_train_smote == \"emergency\")\n",
    "count_traffic = np.count_nonzero(y_train_smote == \"traffic\")\n",
    "\n",
    "clf.fit(X_train_smote, y_train_smote)\n",
    "\n",
    "# Faz previsões no conjunto de teste\n",
    "y_pred = clf.predict(X_test)\n",
    "\n",
    "# Calcula a acurácia do classificador\n",
    "\n",
    "accuracy = accuracy_score(y_test, y_pred)\n",
    "\n",
    "print(\"Acurácia:\", accuracy)"
   ]
  },
  {
   "cell_type": "code",
   "execution_count": 62,
   "metadata": {},
   "outputs": [
    {
     "data": {
      "image/png": "[encoded data removed]",
      "text/plain": [
       "<Figure size 640x480 with 2 Axes>"
      ]
     },
     "metadata": {},
     "output_type": "display_data"
    }
   ],
   "source": [
    "from sklearn.metrics import confusion_matrix\n",
    "import matplotlib.pyplot as plt\n",
    "confusion_matrix = confusion_matrix(y_test, y_pred)\n",
    "classes = [\"traffic\", \"emergency\"]\n",
    "# Exibe a matriz de confusão\n",
    "plt.imshow(confusion_matrix, interpolation='nearest', cmap=plt.cm.Blues)\n",
    "plt.title('Confusion Matrix')\n",
    "plt.colorbar()\n",
    "tick_marks = np.arange(len(classes))\n",
    "plt.xticks(tick_marks, classes)\n",
    "plt.yticks(tick_marks, classes)\n",
    "plt.xlabel('Predict')\n",
    "plt.ylabel('True')\n",
    "plt.show()"
   ]
  },
  {
   "cell_type": "code",
   "execution_count": 59,
   "metadata": {},
   "outputs": [
    {
     "name": "stdout",
     "output_type": "stream",
     "text": [
      "[[109   2]\n",
      " [  0  69]]\n"
     ]
    }
   ],
   "source": [
    "print(confusion_matrix)"
   ]
  },
  {
   "cell_type": "code",
   "execution_count": 60,
   "metadata": {},
   "outputs": [
    {
     "name": "stdout",
     "output_type": "stream",
     "text": [
      "180\n",
      "emergency traffic\n",
      "emergency traffic\n"
     ]
    }
   ],
   "source": [
    "print(len(y_test))\n",
    "for i in range(len(y_test)):\n",
    "    if y_test[i] != y_pred[i] and (y_test[i] == \"traffic\" or y_pred[i] == \"traffic\"):\n",
    "        print(y_test[i], y_pred[i])"
   ]
  }
 ],
 "metadata": {
  "kernelspec": {
   "display_name": "Python 3",
   "language": "python",
   "name": "python3"
  },
  "language_info": {
   "codemirror_mode": {
    "name": "ipython",
    "version": 3
   },
   "file_extension": ".py",
   "mimetype": "text/x-python",
   "name": "python",
   "nbconvert_exporter": "python",
   "pygments_lexer": "ipython3",
   "version": "3.8.10"
  }
 },
 "nbformat": 4,
 "nbformat_minor": 2
}
