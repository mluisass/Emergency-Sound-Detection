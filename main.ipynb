{
 "cells": [
  {
   "cell_type": "code",
   "execution_count": 15,
   "metadata": {},
   "outputs": [
    {
     "name": "stderr",
     "output_type": "stream",
     "text": [
      "/home/malu/.local/lib/python3.8/site-packages/scipy/signal/_spectral_py.py:1999: UserWarning: nperseg = 256 is greater than input length  = 2, using nperseg = 2\n",
      "  warnings.warn('nperseg = {0:d} is greater than input length '\n"
     ]
    },
    {
     "name": "stdout",
     "output_type": "stream",
     "text": [
      "Acurácia: 0.79375\n"
     ]
    }
   ],
   "source": [
    "import os\n",
    "import numpy as np\n",
    "from scipy.io import wavfile\n",
    "from scipy.signal import spectrogram\n",
    "from sklearn.ensemble import RandomForestClassifier\n",
    "from sklearn.model_selection import train_test_split\n",
    "from sklearn.metrics import accuracy_score\n",
    "\n",
    "# Pasta contendo os arquivos de áudio\n",
    "audio_folder = \"sounds\"\n",
    "\n",
    "# Listas para armazenar as características e os rótulos\n",
    "features = []\n",
    "labels = []\n",
    "\n",
    "# Loop sobre as subpastas (traffic, ambulance, firetruck)\n",
    "for label in [\"traffic\", \"ambulance\", \"firetruck\"]:\n",
    "    label_folder = os.path.join(audio_folder, label)\n",
    "    for file_name in os.listdir(label_folder):\n",
    "        file_path = os.path.join(label_folder, file_name)\n",
    "        if file_path.endswith(\".wav\"):\n",
    "            # Carrega o arquivo de áudio\n",
    "            sample_rate, audio_data = wavfile.read(file_path)\n",
    "            \n",
    "            # Extrai as características\n",
    "            # Método 1: Transformada de Fourier\n",
    "            fft_result = np.abs(np.fft.fft(audio_data))\n",
    "            fft_mean = np.mean(fft_result)\n",
    "            \n",
    "            # Método 2: Energia média do sinal\n",
    "            energy_mean = np.mean(audio_data**2)\n",
    "            \n",
    "            # Método 3: Espectrograma\n",
    "            _, _, spec = spectrogram(audio_data, fs=sample_rate)\n",
    "            spec_mean = np.mean(spec)\n",
    "            \n",
    "            # Adiciona as características e o rótulo à lista\n",
    "            features.append([fft_mean, energy_mean, spec_mean])\n",
    "            labels.append(label)\n",
    "\n",
    "# Converte as listas para arrays numpy\n",
    "features = np.array(features)\n",
    "labels = np.array(labels)\n",
    "\n",
    "# Divide os dados em conjuntos de treinamento e teste\n",
    "X_train, X_test, y_train, y_test = train_test_split(features, labels, test_size=0.8, random_state=42)\n",
    "\n",
    "# Cria e treina o classificador Random Forest\n",
    "clf = RandomForestClassifier(n_estimators=100, random_state=42)\n",
    "clf.fit(X_train, y_train)\n",
    "\n",
    "# Faz previsões no conjunto de teste\n",
    "y_pred = clf.predict(X_test)\n",
    "\n",
    "# Calcula a acurácia do classificador\n",
    "\n",
    "accuracy = accuracy_score(y_test, y_pred)\n",
    "print(\"Acurácia:\", accuracy)\n"
   ]
  },
  {
   "cell_type": "code",
   "execution_count": 16,
   "metadata": {},
   "outputs": [
    {
     "name": "stdout",
     "output_type": "stream",
     "text": [
      "480\n",
      "ambulance traffic\n",
      "ambulance traffic\n",
      "traffic ambulance\n",
      "ambulance traffic\n",
      "traffic ambulance\n",
      "ambulance traffic\n",
      "traffic ambulance\n",
      "firetruck traffic\n",
      "traffic firetruck\n",
      "firetruck traffic\n",
      "ambulance traffic\n",
      "ambulance traffic\n",
      "ambulance traffic\n",
      "firetruck traffic\n",
      "ambulance traffic\n",
      "traffic ambulance\n",
      "ambulance traffic\n",
      "ambulance traffic\n",
      "traffic ambulance\n",
      "ambulance traffic\n",
      "ambulance traffic\n",
      "ambulance traffic\n",
      "ambulance traffic\n",
      "traffic ambulance\n",
      "ambulance traffic\n",
      "firetruck traffic\n",
      "ambulance traffic\n",
      "ambulance traffic\n",
      "ambulance traffic\n",
      "traffic ambulance\n",
      "traffic firetruck\n",
      "ambulance traffic\n",
      "ambulance traffic\n",
      "ambulance traffic\n"
     ]
    }
   ],
   "source": [
    "print(len(y_test))\n",
    "for i in range(len(y_test)):\n",
    "    if y_test[i] != y_pred[i] and (y_test[i] == \"traffic\" or y_pred[i] == \"traffic\"):\n",
    "        print(y_test[i], y_pred[i])"
   ]
  }
 ],
 "metadata": {
  "kernelspec": {
   "display_name": "Python 3",
   "language": "python",
   "name": "python3"
  },
  "language_info": {
   "codemirror_mode": {
    "name": "ipython",
    "version": 3
   },
   "file_extension": ".py",
   "mimetype": "text/x-python",
   "name": "python",
   "nbconvert_exporter": "python",
   "pygments_lexer": "ipython3",
   "version": "3.8.10"
  }
 },
 "nbformat": 4,
 "nbformat_minor": 2
}
