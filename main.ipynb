{
 "cells": [
  {
   "cell_type": "markdown",
   "metadata": {},
   "source": [
    "# Reconhecedor de Sirenes\n",
    "\n",
    "### Equipe:\n",
    "\n",
    "- João Marcos Alcântara Vanderley (jmav)\n",
    "- Maria Luísa dos Santos Silva (mlss)\n",
    "- Maria Vitória Soares Muniz (mvsm3)"
   ]
  },
  {
   "cell_type": "markdown",
   "metadata": {},
   "source": [
    "## Objetivo e Motivação\n",
    "\n",
    "O objetivo principal deste modelo é reconhecer sons de sirenes, o que é fundamental na detecção de veículos de emergência. Um detector de sirenes pode ser utilizado no contexto de carros autônomos, identificando os sons e tomando uma decisão rápida para dar espaço para ambulâncias, carros de bombeiro, entre outros. Além disso, pode ser utilizado para emitir algum alerta visual para motoristas com deficiência auditiva para que alguma atitude seja tomada."
   ]
  },
  {
   "cell_type": "code",
   "execution_count": 1,
   "metadata": {},
   "outputs": [],
   "source": [
    "import os\n",
    "import librosa\n",
    "import numpy as np\n",
    "from scipy.io import wavfile\n",
    "from scipy.signal import spectrogram\n",
    "from sklearn.model_selection import train_test_split, cross_val_score, StratifiedKFold\n",
    "from sklearn.metrics import make_scorer, accuracy_score, recall_score, precision_score\n",
    "from imblearn.over_sampling import SMOTE\n",
    "from sklearn.ensemble import RandomForestClassifier\n",
    "from sklearn.naive_bayes import GaussianNB\n"
   ]
  },
  {
   "cell_type": "markdown",
   "metadata": {},
   "source": [
    "## Base de dados\n",
    "\n",
    "A base de dados escolhida possui áudios recolhidos de vídeos do youtube, os quais estão divididos em três diferentes pastas: \n",
    "- \"traffic\", que contém sons de trânsito\n",
    "- \"ambulance\", que contém sons de ambulância\n",
    "- \"firetruck\", que contém sons de carros de bombeiro\n",
    "\n",
    "Apesar dos dados estarem divididos em duas categorias diferentes nas pastas de origem, os sons de ambulância e carros de bombeiro farão parte da mesma classe no momento da classificação, que representará a classe dos veículos de emergência. Essa escolha foi feita, pois o objetivo principal é a detecção de sirenes em geral, independentemente do veículo que a emitiu."
   ]
  },
  {
   "cell_type": "code",
   "execution_count": 2,
   "metadata": {},
   "outputs": [],
   "source": [
    "def read_audio_files(audio_folder):\n",
    "    audios = []\n",
    "\n",
    "    # representa as classes de forma bninária, onde \"traffic\" é 0 e \"ambulance\" e \"firetruck\" são 1\n",
    "    folder_label = {\"traffic\": 0, \"ambulance\": 1, \"firetruck\": 1}\n",
    "\n",
    "    for label in [\"traffic\", \"ambulance\", \"firetruck\"]:\n",
    "        label_folder = os.path.join(audio_folder, label)\n",
    "        for file_name in os.listdir(label_folder):\n",
    "            file_path = os.path.join(label_folder, file_name)\n",
    "\n",
    "            if file_path.endswith(\".wav\"):\n",
    "                audio_data, sample_rate = librosa.load(file_path, sr=None)\n",
    "                audios.append([audio_data, sample_rate, folder_label[label]])\n",
    "                \n",
    "    return audios\n"
   ]
  },
  {
   "cell_type": "markdown",
   "metadata": {},
   "source": [
    "## Extração de Características\n",
    "\n",
    "Após a leitura dos dados, é realizada a extração das seguintes características:\n",
    "\n",
    "- Energia Média: é uma medida importante que pode ajudar a distinguir entre sons de baixa e alta intensidade. Sirenes tendem a ter picos de alta energia, enquanto os sons de trânsito são mais constantes em termos de energia.\n",
    "\n",
    "- Zero Crossing Rate: a taxa de cruzamentos por zero é uma medida que indica a quantidade de vezes que o sinal muda de polaridade. Sinais de sirenes tendem a ter taxas mais altas de cruzamentos por zero devido à natureza oscilatória das sirenes, enquanto os sons de trânsito tendem a ter taxas mais baixas.\n",
    "\n",
    "- Média Espectral: o espectro é obtido a partir de múltiplas aplicações da FFT ao sinal. A média do espectro de frequência pode ajudar a distinguir entre os dois tipos de áudio, pois os sons de sirenes e de trânsito se comportam de formas diferentes na frequência."
   ]
  },
  {
   "cell_type": "code",
   "execution_count": 3,
   "metadata": {},
   "outputs": [],
   "source": [
    "def extract_features(audios, extract_energy_mean=True, extract_zcr=True, extract_spec_mean=True):\n",
    "    features = []\n",
    "    labels = []\n",
    "\n",
    "    for [audio_data, sample_rate, label] in audios:\n",
    "        energy_mean = np.mean(audio_data**2)\n",
    "\n",
    "        zero_crossings = librosa.zero_crossings(audio_data, pad=False)\n",
    "        zero_crossing_rate = np.mean(zero_crossings)\n",
    "\n",
    "        _, _, spec = spectrogram(audio_data, fs=sample_rate)\n",
    "        spec_mean = np.mean(spec)\n",
    "        \n",
    "        features_list = []\n",
    "        if extract_energy_mean:\n",
    "            features_list.append(energy_mean)\n",
    "        if extract_zcr:\n",
    "            features_list.append(zero_crossing_rate)\n",
    "        if extract_spec_mean:\n",
    "            features_list.append(spec_mean)\n",
    "            \n",
    "        features.append(features_list)\n",
    "        labels.append(label)\n",
    "\n",
    "    return features, labels"
   ]
  },
  {
   "cell_type": "markdown",
   "metadata": {},
   "source": [
    "## Avaliação do Modelo\n",
    "\n",
    "As características extraídas e suas respectivas classificações são aplicadas em um modelo, o qual é avaliado em 30 iterações utilizando validação cruzada estratificada com 10 folds. Esse método é utilizado para garantir que porções diferentes com proporções representativas de cada classe estejam sendo utilizadas no treino e no teste, evitando problemas como overfitting em classes menos representadas.\n",
    "\n",
    "A base de dados possui o dobro de amostras rotuladas como veículos de emergência em relação ao número de amostras rotuladas como sons de trânsito. Por isso, foi utilizado o SMOTE para gerar amostras sintéticas de sons de trânsito e equilibrar as distribuições das classes no conjunto de treinamento do modelo, auxiliando seu aprendizado sobre as características da classe minoritária (\"traffic\").\n",
    "\n",
    "Por fim, para cada iteração de treino e teste, foram calculadas métricas de avaliação, incluindo acurácia, recall e precisão. A acurácia mede a proporção de exemplos classificados corretamente, o recall mede a proporção de exemplos positivos corretamente identificados e a precisão mede a proporção de exemplos positivos identificados corretamente em relação a todos os exemplos identificados como positivos.\n"
   ]
  },
  {
   "cell_type": "code",
   "execution_count": 4,
   "metadata": {},
   "outputs": [],
   "source": [
    "def evaluate(model, features, labels):\n",
    "    cv = StratifiedKFold(n_splits=10, shuffle=True, random_state=42)\n",
    "\n",
    "    results = {'accuracy': [], 'recall': [], 'precision': []}\n",
    "\n",
    "    for _ in range(30):\n",
    "        for train_index, test_index in cv.split(features, labels):\n",
    "            X_train, X_test = [features[i] for i in train_index], [features[i] for i in test_index]\n",
    "            y_train, y_test = [labels[i] for i in train_index], [labels[i] for i in test_index]\n",
    "\n",
    "            smote = SMOTE(sampling_strategy=1.0,random_state=42)\n",
    "            X_train_smote, y_train_smote = smote.fit_resample(X_train, y_train)\n",
    "\n",
    "            model.fit(X_train_smote, y_train_smote)\n",
    "\n",
    "            y_pred = model.predict(X_test)\n",
    "\n",
    "            accuracy = accuracy_score(y_test, y_pred)\n",
    "            recall = recall_score(y_test, y_pred)\n",
    "            precision = precision_score(y_test, y_pred)\n",
    "\n",
    "            results['accuracy'].append(accuracy)\n",
    "            results['recall'].append(recall)\n",
    "            results['precision'].append(precision)\n",
    "    \n",
    "    return results\n",
    "    "
   ]
  },
  {
   "cell_type": "code",
   "execution_count": 5,
   "metadata": {},
   "outputs": [],
   "source": [
    "def get_metrics(results):\n",
    "    mean_accuracy = np.mean(results['accuracy'])\n",
    "    std_accuracy = np.std(results['accuracy'])\n",
    "\n",
    "    mean_recall = np.mean(results['recall'])\n",
    "    std_recall = np.std(results['recall'])\n",
    "\n",
    "    mean_precision = np.mean(results['precision'])\n",
    "    std_precision = np.std(results['precision'])\n",
    "\n",
    "    print(f'Acurácia média: {mean_accuracy:.2f} +/- {std_accuracy:.2f}')\n",
    "    print(f'Recall médio: {mean_recall:.2f} +/- {std_recall:.2f}')\n",
    "    print(f'Precisão média: {mean_precision:.2f} +/- {std_precision:.2f}')"
   ]
  },
  {
   "cell_type": "code",
   "execution_count": 6,
   "metadata": {},
   "outputs": [],
   "source": [
    "audios = read_audio_files(\"sounds\")\n",
    "features, labels = extract_features(audios)"
   ]
  },
  {
   "cell_type": "markdown",
   "metadata": {},
   "source": [
    "## Modelos Utilizados\n",
    "\n",
    "Os modelos escolhidos para serem avaliados foram GaussianNB (Naive Bayes Gaussiano) e Random Forest, para testar o desempenho de um modelo mais simples em comparação com um mais robusto diante das características extraídas da base de dados.\n",
    "\n",
    "O GaussianNB é um modelo simples e rápido, que assume a independência entre as características dos dados para a classificação. Já o Random Forest é um modelo mais robusto, que lida bem com dados desbalanceados e possui melhor eficiência contra overfitting."
   ]
  },
  {
   "cell_type": "code",
   "execution_count": 7,
   "metadata": {},
   "outputs": [
    {
     "name": "stdout",
     "output_type": "stream",
     "text": [
      "Acurácia média: 0.99 +/- 0.01\n",
      "Recall médio: 0.99 +/- 0.01\n",
      "Precisão média: 1.00 +/- 0.00\n"
     ]
    }
   ],
   "source": [
    "model = RandomForestClassifier(n_estimators=100, random_state=42)\n",
    "results = evaluate(model, features, labels)\n",
    "get_metrics(results)"
   ]
  },
  {
   "cell_type": "code",
   "execution_count": 8,
   "metadata": {},
   "outputs": [
    {
     "name": "stdout",
     "output_type": "stream",
     "text": [
      "Acurácia média: 0.97 +/- 0.02\n",
      "Recall médio: 0.98 +/- 0.02\n",
      "Precisão média: 0.98 +/- 0.03\n"
     ]
    }
   ],
   "source": [
    "model = GaussianNB()\n",
    "results = evaluate(model, features, labels)\n",
    "get_metrics(results)"
   ]
  },
  {
   "cell_type": "markdown",
   "metadata": {},
   "source": [
    "## Conclusão\n",
    "\n",
    "Ambos modelos obtiveram excelente desempenho, o que se deve à boa escolha de características a serem extraídas dos áudios. Foi percebido que, quando uma das características é removida, os modelos não performam tão bem, como pode ser visto abaixo, com a remoção do Zero Crossing Rates"
   ]
  },
  {
   "cell_type": "code",
   "execution_count": 9,
   "metadata": {},
   "outputs": [],
   "source": [
    "features, labels = extract_features(audios, extract_zcr=False)"
   ]
  },
  {
   "cell_type": "code",
   "execution_count": 10,
   "metadata": {},
   "outputs": [
    {
     "name": "stdout",
     "output_type": "stream",
     "text": [
      "Acurácia média: 0.90 +/- 0.04\n",
      "Recall médio: 0.86 +/- 0.05\n",
      "Precisão média: 0.98 +/- 0.03\n"
     ]
    }
   ],
   "source": [
    "model = RandomForestClassifier(n_estimators=100, random_state=42)\n",
    "results = evaluate(model, features, labels)\n",
    "get_metrics(results)"
   ]
  },
  {
   "cell_type": "code",
   "execution_count": 11,
   "metadata": {},
   "outputs": [
    {
     "name": "stdout",
     "output_type": "stream",
     "text": [
      "Acurácia média: 0.83 +/- 0.04\n",
      "Recall médio: 0.77 +/- 0.05\n",
      "Precisão média: 0.98 +/- 0.03\n"
     ]
    }
   ],
   "source": [
    "model = GaussianNB()\n",
    "results = evaluate(model, features, labels)\n",
    "get_metrics(results)"
   ]
  }
 ],
 "metadata": {
  "kernelspec": {
   "display_name": "Python 3",
   "language": "python",
   "name": "python3"
  },
  "language_info": {
   "codemirror_mode": {
    "name": "ipython",
    "version": 3
   },
   "file_extension": ".py",
   "mimetype": "text/x-python",
   "name": "python",
   "nbconvert_exporter": "python",
   "pygments_lexer": "ipython3",
   "version": "3.8.10"
  }
 },
 "nbformat": 4,
 "nbformat_minor": 2
}
